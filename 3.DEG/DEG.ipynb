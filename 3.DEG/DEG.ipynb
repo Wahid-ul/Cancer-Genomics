{
 "cells": [
  {
   "cell_type": "code",
   "execution_count": 1,
   "id": "838ddb32",
   "metadata": {},
   "outputs": [],
   "source": [
    "#importing libraries\n",
    "import pandas as pd \n",
    "import numpy as np\n",
    "import seaborn as sns \n",
    "import matplotlib.pyplot as plt"
   ]
  },
  {
   "cell_type": "code",
   "execution_count": 2,
   "id": "883bea72",
   "metadata": {},
   "outputs": [],
   "source": [
    "def CPM(a1):\n",
    "    #selecting those columns which have only numeric value\n",
    "    a=a1._get_numeric_data()\n",
    "    try:\n",
    "        cpm=[]\n",
    "        for i in range(0,len(a.columns)):\n",
    "                colsum=a.iloc[:,i].sum()\n",
    "\n",
    "                c1=(a.iloc[:,i]/colsum)*10**6\n",
    "                cpm.append(c1)\n",
    "    \n",
    "    except:\n",
    "        print(\"ignore error\")\n",
    "    #converting cpm lists into array\n",
    "    cpm=np.array(cpm)\n",
    "    \n",
    "    return cpm"
   ]
  },
  {
   "cell_type": "code",
   "execution_count": 3,
   "id": "c00f19d5",
   "metadata": {},
   "outputs": [
    {
     "data": {
      "text/plain": [
       "Index(['A1BG', 'A1BG-AS1', 'A1CF', 'A2M', 'A2M-AS1', 'A2ML1', 'A2MP1',\n",
       "       'A3GALT2', 'A4GALT', 'A4GNT',\n",
       "       ...\n",
       "       'ZWILCH', 'ZWINT', 'ZXDA', 'ZXDB', 'ZXDC', 'ZYG11A', 'ZYG11B', 'ZYX',\n",
       "       'ZZEF1', 'ZZZ3'],\n",
       "      dtype='object', length=27964)"
      ]
     },
     "execution_count": 3,
     "metadata": {},
     "output_type": "execute_result"
    }
   ],
   "source": [
    "data=pd.read_csv('GSE145011_A549_WT_KO_readcounts.txt.gz',sep=\"\\t\")\n",
    "#taking data index into a variable\n",
    "g1=data.index\n",
    "g1"
   ]
  },
  {
   "cell_type": "code",
   "execution_count": 4,
   "id": "ca70aadc",
   "metadata": {},
   "outputs": [],
   "source": [
    "#calling cpm function\n",
    "cpm=CPM(data)"
   ]
  },
  {
   "cell_type": "code",
   "execution_count": 5,
   "id": "9a146fcb",
   "metadata": {},
   "outputs": [],
   "source": [
    "##calculating log base 2 values of cpm matrix\n",
    "logv=np.log2(cpm+1)  #cpm+1 is a call of psuedo count which helps "
   ]
  },
  {
   "cell_type": "code",
   "execution_count": 6,
   "id": "4b1e4df7",
   "metadata": {},
   "outputs": [
    {
     "data": {
      "text/plain": [
       "array([[1.78139574, 1.13824386, 0.16818715, ..., 8.40421458, 6.86967774,\n",
       "        6.03320367],\n",
       "       [1.66940767, 1.01440541, 0.31756322, ..., 8.27952701, 6.79133312,\n",
       "        6.240761  ],\n",
       "       [1.79231126, 1.10495554, 0.26040487, ..., 8.43127929, 6.8393264 ,\n",
       "        6.10199939],\n",
       "       [1.88149795, 0.92753012, 0.42613109, ..., 7.20638086, 6.96038859,\n",
       "        5.72543931],\n",
       "       [1.81582891, 1.03219573, 0.67291604, ..., 7.33612128, 7.02375816,\n",
       "        5.64203396],\n",
       "       [1.98464656, 0.94734125, 0.64275439, ..., 7.29045065, 6.95308685,\n",
       "        5.80533751]])"
      ]
     },
     "execution_count": 6,
     "metadata": {},
     "output_type": "execute_result"
    }
   ],
   "source": [
    "logv"
   ]
  },
  {
   "cell_type": "code",
   "execution_count": 7,
   "id": "fdc8594a",
   "metadata": {},
   "outputs": [
    {
     "data": {
      "text/html": [
       "<div>\n",
       "<style scoped>\n",
       "    .dataframe tbody tr th:only-of-type {\n",
       "        vertical-align: middle;\n",
       "    }\n",
       "\n",
       "    .dataframe tbody tr th {\n",
       "        vertical-align: top;\n",
       "    }\n",
       "\n",
       "    .dataframe thead th {\n",
       "        text-align: right;\n",
       "    }\n",
       "</style>\n",
       "<table border=\"1\" class=\"dataframe\">\n",
       "  <thead>\n",
       "    <tr style=\"text-align: right;\">\n",
       "      <th></th>\n",
       "      <th>A549_KO1</th>\n",
       "      <th>A549_KO2</th>\n",
       "      <th>A549_KO3</th>\n",
       "      <th>A549_WT1</th>\n",
       "      <th>A549_WT2</th>\n",
       "      <th>A549_WT3</th>\n",
       "    </tr>\n",
       "  </thead>\n",
       "  <tbody>\n",
       "    <tr>\n",
       "      <th>A1BG</th>\n",
       "      <td>1.781396</td>\n",
       "      <td>1.669408</td>\n",
       "      <td>1.792311</td>\n",
       "      <td>1.881498</td>\n",
       "      <td>1.815829</td>\n",
       "      <td>1.984647</td>\n",
       "    </tr>\n",
       "    <tr>\n",
       "      <th>A1BG-AS1</th>\n",
       "      <td>1.138244</td>\n",
       "      <td>1.014405</td>\n",
       "      <td>1.104956</td>\n",
       "      <td>0.927530</td>\n",
       "      <td>1.032196</td>\n",
       "      <td>0.947341</td>\n",
       "    </tr>\n",
       "    <tr>\n",
       "      <th>A1CF</th>\n",
       "      <td>0.168187</td>\n",
       "      <td>0.317563</td>\n",
       "      <td>0.260405</td>\n",
       "      <td>0.426131</td>\n",
       "      <td>0.672916</td>\n",
       "      <td>0.642754</td>\n",
       "    </tr>\n",
       "    <tr>\n",
       "      <th>A2M</th>\n",
       "      <td>0.256166</td>\n",
       "      <td>0.297058</td>\n",
       "      <td>0.260405</td>\n",
       "      <td>0.147154</td>\n",
       "      <td>0.086075</td>\n",
       "      <td>0.203040</td>\n",
       "    </tr>\n",
       "    <tr>\n",
       "      <th>A2M-AS1</th>\n",
       "      <td>1.411635</td>\n",
       "      <td>1.578880</td>\n",
       "      <td>1.456473</td>\n",
       "      <td>0.754675</td>\n",
       "      <td>0.830846</td>\n",
       "      <td>0.829602</td>\n",
       "    </tr>\n",
       "    <tr>\n",
       "      <th>...</th>\n",
       "      <td>...</td>\n",
       "      <td>...</td>\n",
       "      <td>...</td>\n",
       "      <td>...</td>\n",
       "      <td>...</td>\n",
       "      <td>...</td>\n",
       "    </tr>\n",
       "    <tr>\n",
       "      <th>ZYG11A</th>\n",
       "      <td>3.250035</td>\n",
       "      <td>3.158971</td>\n",
       "      <td>3.302421</td>\n",
       "      <td>3.722325</td>\n",
       "      <td>3.648174</td>\n",
       "      <td>3.700810</td>\n",
       "    </tr>\n",
       "    <tr>\n",
       "      <th>ZYG11B</th>\n",
       "      <td>6.145816</td>\n",
       "      <td>6.247456</td>\n",
       "      <td>6.114785</td>\n",
       "      <td>5.935434</td>\n",
       "      <td>5.605459</td>\n",
       "      <td>5.856764</td>\n",
       "    </tr>\n",
       "    <tr>\n",
       "      <th>ZYX</th>\n",
       "      <td>8.404215</td>\n",
       "      <td>8.279527</td>\n",
       "      <td>8.431279</td>\n",
       "      <td>7.206381</td>\n",
       "      <td>7.336121</td>\n",
       "      <td>7.290451</td>\n",
       "    </tr>\n",
       "    <tr>\n",
       "      <th>ZZEF1</th>\n",
       "      <td>6.869678</td>\n",
       "      <td>6.791333</td>\n",
       "      <td>6.839326</td>\n",
       "      <td>6.960389</td>\n",
       "      <td>7.023758</td>\n",
       "      <td>6.953087</td>\n",
       "    </tr>\n",
       "    <tr>\n",
       "      <th>ZZZ3</th>\n",
       "      <td>6.033204</td>\n",
       "      <td>6.240761</td>\n",
       "      <td>6.101999</td>\n",
       "      <td>5.725439</td>\n",
       "      <td>5.642034</td>\n",
       "      <td>5.805338</td>\n",
       "    </tr>\n",
       "  </tbody>\n",
       "</table>\n",
       "<p>27964 rows × 6 columns</p>\n",
       "</div>"
      ],
      "text/plain": [
       "          A549_KO1  A549_KO2  A549_KO3  A549_WT1  A549_WT2  A549_WT3\n",
       "A1BG      1.781396  1.669408  1.792311  1.881498  1.815829  1.984647\n",
       "A1BG-AS1  1.138244  1.014405  1.104956  0.927530  1.032196  0.947341\n",
       "A1CF      0.168187  0.317563  0.260405  0.426131  0.672916  0.642754\n",
       "A2M       0.256166  0.297058  0.260405  0.147154  0.086075  0.203040\n",
       "A2M-AS1   1.411635  1.578880  1.456473  0.754675  0.830846  0.829602\n",
       "...            ...       ...       ...       ...       ...       ...\n",
       "ZYG11A    3.250035  3.158971  3.302421  3.722325  3.648174  3.700810\n",
       "ZYG11B    6.145816  6.247456  6.114785  5.935434  5.605459  5.856764\n",
       "ZYX       8.404215  8.279527  8.431279  7.206381  7.336121  7.290451\n",
       "ZZEF1     6.869678  6.791333  6.839326  6.960389  7.023758  6.953087\n",
       "ZZZ3      6.033204  6.240761  6.101999  5.725439  5.642034  5.805338\n",
       "\n",
       "[27964 rows x 6 columns]"
      ]
     },
     "execution_count": 7,
     "metadata": {},
     "output_type": "execute_result"
    }
   ],
   "source": [
    "#converting logcpm array to dataframe\n",
    "lg=pd.DataFrame(logv).T\n",
    "#now replacing logcpm column with those numerical column of the dataset\n",
    "lg.columns=data.columns\n",
    "#indexing genename of logcpm\n",
    "lg.index=g1\n",
    "lg\n"
   ]
  },
  {
   "cell_type": "code",
   "execution_count": 8,
   "id": "253a11a8",
   "metadata": {},
   "outputs": [],
   "source": [
    "#saving logcpm value into csv format file\n",
    "lg.to_csv(\"logcpm.csv\")"
   ]
  },
  {
   "cell_type": "code",
   "execution_count": 9,
   "id": "edcc8ed6",
   "metadata": {},
   "outputs": [
    {
     "data": {
      "text/plain": [
       "<AxesSubplot:>"
      ]
     },
     "execution_count": 9,
     "metadata": {},
     "output_type": "execute_result"
    },
    {
     "data": {
      "image/png": "[encoded data removed]",
      "text/plain": [
       "<Figure size 1170x827 with 2 Axes>"
      ]
     },
     "metadata": {},
     "output_type": "display_data"
    }
   ],
   "source": [
    "import scipy.stats as st\n",
    "#calculating zscore of logcpm matrix\n",
    "zscr=st.zscore(logv)\n",
    "# converting zscr to dataframe again   \n",
    "zscr=pd.DataFrame(zscr)\n",
    "new=zscr.T\n",
    "# null value replacing with zero\n",
    "zscr=new.fillna(0)\n",
    "#converting zscr into array\n",
    "zscr=zscr.values\n",
    "#heatmap plot for first 10 genes of zscore   \n",
    "sns.set(rc={'figure.figsize':(11.7,8.27)})\n",
    "sns.heatmap(zscr[0:10],xticklabels=data.columns, yticklabels=g1[0:10],annot=False,cmap='gnuplot')\n",
    "    "
   ]
  },
  {
   "cell_type": "code",
   "execution_count": 10,
   "id": "47bcc145",
   "metadata": {},
   "outputs": [],
   "source": [
    "#null hypothesis testing\n",
    "#considering first 3 columns as a tumor class\n",
    "vec1=logv[0:2]"
   ]
  },
  {
   "cell_type": "code",
   "execution_count": 11,
   "id": "c2db478f",
   "metadata": {},
   "outputs": [
    {
     "data": {
      "text/plain": [
       "array([[1.78139574, 1.13824386, 0.16818715, ..., 8.40421458, 6.86967774,\n",
       "        6.03320367],\n",
       "       [1.66940767, 1.01440541, 0.31756322, ..., 8.27952701, 6.79133312,\n",
       "        6.240761  ]])"
      ]
     },
     "execution_count": 11,
     "metadata": {},
     "output_type": "execute_result"
    }
   ],
   "source": [
    "vec1"
   ]
  },
  {
   "cell_type": "code",
   "execution_count": 12,
   "id": "70f46037",
   "metadata": {},
   "outputs": [],
   "source": [
    "#considering  rest columns as a control class\n",
    "vec2=logv[3:5]"
   ]
  },
  {
   "cell_type": "code",
   "execution_count": 13,
   "id": "d81fdf82",
   "metadata": {},
   "outputs": [
    {
     "data": {
      "text/plain": [
       "array([[1.88149795, 0.92753012, 0.42613109, ..., 7.20638086, 6.96038859,\n",
       "        5.72543931],\n",
       "       [1.81582891, 1.03219573, 0.67291604, ..., 7.33612128, 7.02375816,\n",
       "        5.64203396]])"
      ]
     },
     "execution_count": 13,
     "metadata": {},
     "output_type": "execute_result"
    }
   ],
   "source": [
    "vec2 #control"
   ]
  },
  {
   "cell_type": "code",
   "execution_count": 14,
   "id": "4e738517",
   "metadata": {},
   "outputs": [],
   "source": [
    "#mean value of vector1 \n",
    "meanTumor=np.mean(vec1,axis=0)"
   ]
  },
  {
   "cell_type": "code",
   "execution_count": 15,
   "id": "80a8aa6b",
   "metadata": {},
   "outputs": [
    {
     "data": {
      "text/plain": [
       "array([1.7254017 , 1.07632464, 0.24287519, ..., 8.3418708 , 6.83050543,\n",
       "       6.13698233])"
      ]
     },
     "execution_count": 15,
     "metadata": {},
     "output_type": "execute_result"
    }
   ],
   "source": [
    "meanTumor"
   ]
  },
  {
   "cell_type": "code",
   "execution_count": 16,
   "id": "360d1543",
   "metadata": {},
   "outputs": [],
   "source": [
    "#mean value of vector2\n",
    "meanControl=np.mean(vec2,axis=0)"
   ]
  },
  {
   "cell_type": "code",
   "execution_count": 17,
   "id": "1494f6f3",
   "metadata": {},
   "outputs": [
    {
     "data": {
      "text/plain": [
       "array([1.84866343, 0.97986292, 0.54952357, ..., 7.27125107, 6.99207337,\n",
       "       5.68373663])"
      ]
     },
     "execution_count": 17,
     "metadata": {},
     "output_type": "execute_result"
    }
   ],
   "source": [
    "meanControl"
   ]
  },
  {
   "cell_type": "code",
   "execution_count": 18,
   "id": "5cf1ef00",
   "metadata": {},
   "outputs": [],
   "source": [
    "from scipy.stats import ttest_ind"
   ]
  },
  {
   "cell_type": "code",
   "execution_count": 19,
   "id": "0409a151",
   "metadata": {},
   "outputs": [],
   "source": [
    "# ttest for deg identification\n",
    "pvalue=ttest_ind(vec1,vec2).pvalue"
   ]
  },
  {
   "cell_type": "code",
   "execution_count": 20,
   "id": "0b80bfcf",
   "metadata": {},
   "outputs": [
    {
     "data": {
      "text/plain": [
       "array([0.19797986, 0.3562103 , 0.1673839 , ..., 0.00698827, 0.08502287,\n",
       "       0.05584039])"
      ]
     },
     "execution_count": 20,
     "metadata": {},
     "output_type": "execute_result"
    }
   ],
   "source": [
    "pvalue"
   ]
  },
  {
   "cell_type": "code",
   "execution_count": 21,
   "id": "894ddfc0",
   "metadata": {},
   "outputs": [],
   "source": [
    "#calculation of fold change with vec1 and vec2\n",
    "log2FC=meanTumor-meanControl"
   ]
  },
  {
   "cell_type": "code",
   "execution_count": 22,
   "id": "c4ca5875",
   "metadata": {},
   "outputs": [
    {
     "data": {
      "text/plain": [
       "array([-0.12326173,  0.09646172, -0.30664838, ...,  1.07061973,\n",
       "       -0.16156794,  0.4532457 ])"
      ]
     },
     "execution_count": 22,
     "metadata": {},
     "output_type": "execute_result"
    }
   ],
   "source": [
    "log2FC"
   ]
  },
  {
   "cell_type": "code",
   "execution_count": 23,
   "id": "665a7b50",
   "metadata": {},
   "outputs": [],
   "source": [
    "#merging all arrays\n",
    "result=np.stack((meanTumor,meanControl,log2FC,pvalue),axis=0)"
   ]
  },
  {
   "cell_type": "code",
   "execution_count": 24,
   "id": "146ec3fa",
   "metadata": {},
   "outputs": [
    {
     "data": {
      "text/plain": [
       "array([[ 1.72540170e+00,  1.07632464e+00,  2.42875185e-01, ...,\n",
       "         8.34187080e+00,  6.83050543e+00,  6.13698233e+00],\n",
       "       [ 1.84866343e+00,  9.79862922e-01,  5.49523567e-01, ...,\n",
       "         7.27125107e+00,  6.99207337e+00,  5.68373663e+00],\n",
       "       [-1.23261726e-01,  9.64617172e-02, -3.06648382e-01, ...,\n",
       "         1.07061973e+00, -1.61567943e-01,  4.53245700e-01],\n",
       "       [ 1.97979860e-01,  3.56210301e-01,  1.67383903e-01, ...,\n",
       "         6.98826654e-03,  8.50228701e-02,  5.58403902e-02]])"
      ]
     },
     "execution_count": 24,
     "metadata": {},
     "output_type": "execute_result"
    }
   ],
   "source": [
    "result"
   ]
  },
  {
   "cell_type": "code",
   "execution_count": 25,
   "id": "32288310",
   "metadata": {},
   "outputs": [],
   "source": [
    "#converting into dataframe\n",
    "r=pd.DataFrame(result)\n",
    "r=r.T"
   ]
  },
  {
   "cell_type": "code",
   "execution_count": 26,
   "id": "d1bd4b9a",
   "metadata": {},
   "outputs": [],
   "source": [
    "#adding column names\n",
    "r.columns=[\"meanTumor\",\"meanControl\",\"log2FC\",\"pvalue\"]"
   ]
  },
  {
   "cell_type": "code",
   "execution_count": 27,
   "id": "39b376e8",
   "metadata": {},
   "outputs": [],
   "source": [
    "#adding index \n",
    "r.index=g1"
   ]
  },
  {
   "cell_type": "code",
   "execution_count": 28,
   "id": "b7931e4c",
   "metadata": {},
   "outputs": [],
   "source": [
    "#r[\"gene\"] = r.gene.shift(-1)\n",
    "#col_1=r.pop('gene')\n",
    "#r.insert(0,'gene',col_1)"
   ]
  },
  {
   "cell_type": "code",
   "execution_count": 29,
   "id": "3e44cabc",
   "metadata": {},
   "outputs": [
    {
     "data": {
      "text/html": [
       "<div>\n",
       "<style scoped>\n",
       "    .dataframe tbody tr th:only-of-type {\n",
       "        vertical-align: middle;\n",
       "    }\n",
       "\n",
       "    .dataframe tbody tr th {\n",
       "        vertical-align: top;\n",
       "    }\n",
       "\n",
       "    .dataframe thead th {\n",
       "        text-align: right;\n",
       "    }\n",
       "</style>\n",
       "<table border=\"1\" class=\"dataframe\">\n",
       "  <thead>\n",
       "    <tr style=\"text-align: right;\">\n",
       "      <th></th>\n",
       "      <th>meanTumor</th>\n",
       "      <th>meanControl</th>\n",
       "      <th>log2FC</th>\n",
       "      <th>pvalue</th>\n",
       "    </tr>\n",
       "  </thead>\n",
       "  <tbody>\n",
       "    <tr>\n",
       "      <th>A1BG</th>\n",
       "      <td>1.725402</td>\n",
       "      <td>1.848663</td>\n",
       "      <td>-0.123262</td>\n",
       "      <td>0.197980</td>\n",
       "    </tr>\n",
       "    <tr>\n",
       "      <th>A1BG-AS1</th>\n",
       "      <td>1.076325</td>\n",
       "      <td>0.979863</td>\n",
       "      <td>0.096462</td>\n",
       "      <td>0.356210</td>\n",
       "    </tr>\n",
       "    <tr>\n",
       "      <th>A1CF</th>\n",
       "      <td>0.242875</td>\n",
       "      <td>0.549524</td>\n",
       "      <td>-0.306648</td>\n",
       "      <td>0.167384</td>\n",
       "    </tr>\n",
       "    <tr>\n",
       "      <th>A2M</th>\n",
       "      <td>0.276612</td>\n",
       "      <td>0.116615</td>\n",
       "      <td>0.159997</td>\n",
       "      <td>0.048924</td>\n",
       "    </tr>\n",
       "    <tr>\n",
       "      <th>A2M-AS1</th>\n",
       "      <td>1.495257</td>\n",
       "      <td>0.792760</td>\n",
       "      <td>0.702497</td>\n",
       "      <td>0.016682</td>\n",
       "    </tr>\n",
       "    <tr>\n",
       "      <th>...</th>\n",
       "      <td>...</td>\n",
       "      <td>...</td>\n",
       "      <td>...</td>\n",
       "      <td>...</td>\n",
       "    </tr>\n",
       "    <tr>\n",
       "      <th>ZYG11A</th>\n",
       "      <td>3.204503</td>\n",
       "      <td>3.685249</td>\n",
       "      <td>-0.480746</td>\n",
       "      <td>0.014592</td>\n",
       "    </tr>\n",
       "    <tr>\n",
       "      <th>ZYG11B</th>\n",
       "      <td>6.196636</td>\n",
       "      <td>5.770447</td>\n",
       "      <td>0.426189</td>\n",
       "      <td>0.132291</td>\n",
       "    </tr>\n",
       "    <tr>\n",
       "      <th>ZYX</th>\n",
       "      <td>8.341871</td>\n",
       "      <td>7.271251</td>\n",
       "      <td>1.070620</td>\n",
       "      <td>0.006988</td>\n",
       "    </tr>\n",
       "    <tr>\n",
       "      <th>ZZEF1</th>\n",
       "      <td>6.830505</td>\n",
       "      <td>6.992073</td>\n",
       "      <td>-0.161568</td>\n",
       "      <td>0.085023</td>\n",
       "    </tr>\n",
       "    <tr>\n",
       "      <th>ZZZ3</th>\n",
       "      <td>6.136982</td>\n",
       "      <td>5.683737</td>\n",
       "      <td>0.453246</td>\n",
       "      <td>0.055840</td>\n",
       "    </tr>\n",
       "  </tbody>\n",
       "</table>\n",
       "<p>27964 rows × 4 columns</p>\n",
       "</div>"
      ],
      "text/plain": [
       "          meanTumor  meanControl    log2FC    pvalue\n",
       "A1BG       1.725402     1.848663 -0.123262  0.197980\n",
       "A1BG-AS1   1.076325     0.979863  0.096462  0.356210\n",
       "A1CF       0.242875     0.549524 -0.306648  0.167384\n",
       "A2M        0.276612     0.116615  0.159997  0.048924\n",
       "A2M-AS1    1.495257     0.792760  0.702497  0.016682\n",
       "...             ...          ...       ...       ...\n",
       "ZYG11A     3.204503     3.685249 -0.480746  0.014592\n",
       "ZYG11B     6.196636     5.770447  0.426189  0.132291\n",
       "ZYX        8.341871     7.271251  1.070620  0.006988\n",
       "ZZEF1      6.830505     6.992073 -0.161568  0.085023\n",
       "ZZZ3       6.136982     5.683737  0.453246  0.055840\n",
       "\n",
       "[27964 rows x 4 columns]"
      ]
     },
     "execution_count": 29,
     "metadata": {},
     "output_type": "execute_result"
    }
   ],
   "source": [
    "r"
   ]
  },
  {
   "cell_type": "code",
   "execution_count": 30,
   "id": "ab19efc7",
   "metadata": {},
   "outputs": [],
   "source": [
    "#replacing null value with zero\n",
    "r['pvalue']=r['pvalue'].fillna(1)"
   ]
  },
  {
   "cell_type": "code",
   "execution_count": 31,
   "id": "a8185ed3",
   "metadata": {},
   "outputs": [
    {
     "data": {
      "text/html": [
       "<div>\n",
       "<style scoped>\n",
       "    .dataframe tbody tr th:only-of-type {\n",
       "        vertical-align: middle;\n",
       "    }\n",
       "\n",
       "    .dataframe tbody tr th {\n",
       "        vertical-align: top;\n",
       "    }\n",
       "\n",
       "    .dataframe thead th {\n",
       "        text-align: right;\n",
       "    }\n",
       "</style>\n",
       "<table border=\"1\" class=\"dataframe\">\n",
       "  <thead>\n",
       "    <tr style=\"text-align: right;\">\n",
       "      <th></th>\n",
       "      <th>meanTumor</th>\n",
       "      <th>meanControl</th>\n",
       "      <th>log2FC</th>\n",
       "      <th>pvalue</th>\n",
       "    </tr>\n",
       "  </thead>\n",
       "  <tbody>\n",
       "    <tr>\n",
       "      <th>A1BG</th>\n",
       "      <td>1.725402</td>\n",
       "      <td>1.848663</td>\n",
       "      <td>-0.123262</td>\n",
       "      <td>0.197980</td>\n",
       "    </tr>\n",
       "    <tr>\n",
       "      <th>A1BG-AS1</th>\n",
       "      <td>1.076325</td>\n",
       "      <td>0.979863</td>\n",
       "      <td>0.096462</td>\n",
       "      <td>0.356210</td>\n",
       "    </tr>\n",
       "    <tr>\n",
       "      <th>A1CF</th>\n",
       "      <td>0.242875</td>\n",
       "      <td>0.549524</td>\n",
       "      <td>-0.306648</td>\n",
       "      <td>0.167384</td>\n",
       "    </tr>\n",
       "    <tr>\n",
       "      <th>A2M</th>\n",
       "      <td>0.276612</td>\n",
       "      <td>0.116615</td>\n",
       "      <td>0.159997</td>\n",
       "      <td>0.048924</td>\n",
       "    </tr>\n",
       "    <tr>\n",
       "      <th>A2M-AS1</th>\n",
       "      <td>1.495257</td>\n",
       "      <td>0.792760</td>\n",
       "      <td>0.702497</td>\n",
       "      <td>0.016682</td>\n",
       "    </tr>\n",
       "    <tr>\n",
       "      <th>...</th>\n",
       "      <td>...</td>\n",
       "      <td>...</td>\n",
       "      <td>...</td>\n",
       "      <td>...</td>\n",
       "    </tr>\n",
       "    <tr>\n",
       "      <th>ZYG11A</th>\n",
       "      <td>3.204503</td>\n",
       "      <td>3.685249</td>\n",
       "      <td>-0.480746</td>\n",
       "      <td>0.014592</td>\n",
       "    </tr>\n",
       "    <tr>\n",
       "      <th>ZYG11B</th>\n",
       "      <td>6.196636</td>\n",
       "      <td>5.770447</td>\n",
       "      <td>0.426189</td>\n",
       "      <td>0.132291</td>\n",
       "    </tr>\n",
       "    <tr>\n",
       "      <th>ZYX</th>\n",
       "      <td>8.341871</td>\n",
       "      <td>7.271251</td>\n",
       "      <td>1.070620</td>\n",
       "      <td>0.006988</td>\n",
       "    </tr>\n",
       "    <tr>\n",
       "      <th>ZZEF1</th>\n",
       "      <td>6.830505</td>\n",
       "      <td>6.992073</td>\n",
       "      <td>-0.161568</td>\n",
       "      <td>0.085023</td>\n",
       "    </tr>\n",
       "    <tr>\n",
       "      <th>ZZZ3</th>\n",
       "      <td>6.136982</td>\n",
       "      <td>5.683737</td>\n",
       "      <td>0.453246</td>\n",
       "      <td>0.055840</td>\n",
       "    </tr>\n",
       "  </tbody>\n",
       "</table>\n",
       "<p>27964 rows × 4 columns</p>\n",
       "</div>"
      ],
      "text/plain": [
       "          meanTumor  meanControl    log2FC    pvalue\n",
       "A1BG       1.725402     1.848663 -0.123262  0.197980\n",
       "A1BG-AS1   1.076325     0.979863  0.096462  0.356210\n",
       "A1CF       0.242875     0.549524 -0.306648  0.167384\n",
       "A2M        0.276612     0.116615  0.159997  0.048924\n",
       "A2M-AS1    1.495257     0.792760  0.702497  0.016682\n",
       "...             ...          ...       ...       ...\n",
       "ZYG11A     3.204503     3.685249 -0.480746  0.014592\n",
       "ZYG11B     6.196636     5.770447  0.426189  0.132291\n",
       "ZYX        8.341871     7.271251  1.070620  0.006988\n",
       "ZZEF1      6.830505     6.992073 -0.161568  0.085023\n",
       "ZZZ3       6.136982     5.683737  0.453246  0.055840\n",
       "\n",
       "[27964 rows x 4 columns]"
      ]
     },
     "execution_count": 31,
     "metadata": {},
     "output_type": "execute_result"
    }
   ],
   "source": [
    "r"
   ]
  },
  {
   "cell_type": "code",
   "execution_count": 32,
   "id": "5e1d1a7e",
   "metadata": {},
   "outputs": [],
   "source": [
    "#saving into csv file\n",
    "r.to_csv(\"deg.csv\")"
   ]
  },
  {
   "cell_type": "code",
   "execution_count": 33,
   "id": "6cec3467",
   "metadata": {},
   "outputs": [],
   "source": [
    "#!pip install bioinfokit"
   ]
  },
  {
   "cell_type": "code",
   "execution_count": 34,
   "id": "f8f77410",
   "metadata": {},
   "outputs": [],
   "source": [
    "from bioinfokit import analys, visuz"
   ]
  },
  {
   "cell_type": "code",
   "execution_count": 35,
   "id": "fa0fd665",
   "metadata": {},
   "outputs": [
    {
     "data": {
      "image/png": "[encoded data removed]",
      "text/plain": [
       "<Figure size 500x500 with 1 Axes>"
      ]
     },
     "metadata": {},
     "output_type": "display_data"
    }
   ],
   "source": [
    "#volcano plot for gene expression analysis\n",
    "visuz.GeneExpression.volcano(r, lfc='log2FC', pv='pvalue',plotlegend=True, legendpos='upper right', \n",
    "    legendanchor=(1.46,1),show=True)"
   ]
  },
  {
   "cell_type": "code",
   "execution_count": 36,
   "id": "83012129",
   "metadata": {},
   "outputs": [],
   "source": [
    "visuz.GeneExpression.volcano(r, lfc='log2FC', pv='pvalue',plotlegend=True, legendpos='upper right', \n",
    "    legendanchor=(1.46,1))"
   ]
  }
 ],
 "metadata": {
  "kernelspec": {
   "display_name": "Python 3 (ipykernel)",
   "language": "python",
   "name": "python3"
  },
  "language_info": {
   "codemirror_mode": {
    "name": "ipython",
    "version": 3
   },
   "file_extension": ".py",
   "mimetype": "text/x-python",
   "name": "python",
   "nbconvert_exporter": "python",
   "pygments_lexer": "ipython3",
   "version": "3.9.1"
  }
 },
 "nbformat": 4,
 "nbformat_minor": 5
}
